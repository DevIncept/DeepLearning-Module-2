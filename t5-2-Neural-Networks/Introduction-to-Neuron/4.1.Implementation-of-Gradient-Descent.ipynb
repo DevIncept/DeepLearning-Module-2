{
 "cells": [
  {
   "cell_type": "markdown",
   "metadata": {},
   "source": [
    "# Gradient Descent"
   ]
  },
  {
   "cell_type": "code",
   "execution_count": 1,
   "metadata": {},
   "outputs": [],
   "source": [
    "import numpy as np\n",
    "import pandas as pd"
   ]
  },
  {
   "cell_type": "code",
   "execution_count": 2,
   "metadata": {},
   "outputs": [],
   "source": [
    "# training values\n",
    "x = np.array([[3,8,10],\n",
    "             [10,7,2],\n",
    "             [2,9,15],\n",
    "             [1,12,34],\n",
    "             [3,1,9]])\n",
    "y = [[51],[60],[57],[85],[22]]"
   ]
  },
  {
   "cell_type": "code",
   "execution_count": 3,
   "metadata": {},
   "outputs": [
    {
     "name": "stdout",
     "output_type": "stream",
     "text": [
      "[[ 0.82625891]\n",
      " [ 0.9287979 ]\n",
      " [-0.08701681]]\n"
     ]
    }
   ],
   "source": [
    "def random_weights(x):\n",
    "    return (np.random.rand(x.shape[1],1)*2)-1\n",
    "w = random_weights(x) # here the values of bias is taken as zero(0)\n",
    "print(w)"
   ]
  },
  {
   "cell_type": "code",
   "execution_count": 4,
   "metadata": {},
   "outputs": [],
   "source": [
    "# learning rate\n",
    "lr = 0.0001"
   ]
  },
  {
   "cell_type": "code",
   "execution_count": 5,
   "metadata": {},
   "outputs": [],
   "source": [
    "# no of epoches\n",
    "n_epoch=10000"
   ]
  },
  {
   "cell_type": "code",
   "execution_count": 6,
   "metadata": {},
   "outputs": [],
   "source": [
    "# here lr = learning rate , n_epoch = number of time the process repeate\n",
    "def simple_gradient_descent(x,y,w,lr,n_epoch):\n",
    "    cost_list = []  # initialize list to store epochs and cost\n",
    "    \n",
    "    y_hat = np.dot(x,w)  # calculate y_hat for first iteration\n",
    "    \n",
    "    for epoch in range(n_epoch):  \n",
    "        \n",
    "        dcostdw = 2*0.5*np.dot(-x.T,(y-y_hat))   # notice change from previous function \"nn_batch\". \n",
    "                                                #  Matrix multiplication dcostdw (3x1) = tranpose(X) (3x4)  * (y - y_hat) (4x1) \n",
    "                                                # above matrix shapes correspond to below example. for other example shapes may change but this function will work withput any changes needed.\n",
    "        \n",
    "        w = w - lr*dcostdw  # w new (3x1) = w (3x1) - dcostdw (3x1)\n",
    "        y_hat = np.dot(x,w) # calculate new y_hat using new weights after above steps\n",
    "        cost = 0.5*np.sum((y - y_hat)**2)  # calculate new cost\n",
    "        cost_list.append([epoch,cost])\n",
    "        # printing of epoches\n",
    "        if epoch%1000==0:\n",
    "            print(\"epoch :{:d} cost:{:f}\".format(epoch,cost))\n",
    "        if cost <= 0.001:  # if the cost is less then 0.001 then we will stop the loop\n",
    "            print(\"epoch :{:d} cost:{:f}\".format(epoch,cost))\n",
    "            break\n",
    "\n",
    "    cost_list = pd.DataFrame(cost_list,columns=['epoch','cost'])\n",
    "    return w,cost_list"
   ]
  },
  {
   "cell_type": "code",
   "execution_count": 7,
   "metadata": {},
   "outputs": [
    {
     "name": "stdout",
     "output_type": "stream",
     "text": [
      "epoch :0 cost:4275.357333\n",
      "epoch :1000 cost:0.153760\n",
      "epoch :2000 cost:0.003712\n",
      "epoch :2353 cost:0.000997\n",
      "y_hat_final:\n",
      " [[50.98183954]\n",
      " [60.0091316 ]\n",
      " [56.98187193]\n",
      " [85.00505976]\n",
      " [22.03502771]]\n",
      "trained weights :\n",
      " [[3.00595233]\n",
      " [3.99200219]\n",
      " [1.0027965 ]]\n"
     ]
    }
   ],
   "source": [
    "w,cost_list = simple_gradient_descent(x,y,w,lr,n_epoch)\n",
    "print(\"y_hat_final:\\n\",np.dot(x,w))\n",
    "print(\"trained weights :\\n\",w)"
   ]
  },
  {
   "cell_type": "markdown",
   "metadata": {},
   "source": [
    "Thank you\n",
    "\n",
    "<p><a href=\"5.Backpropagation-and-Optimization.md\">Next>></a></p>"
   ]
  },
  {
   "cell_type": "code",
   "execution_count": null,
   "metadata": {},
   "outputs": [],
   "source": []
  }
 ],
 "metadata": {
  "kernelspec": {
   "display_name": "Python 3",
   "language": "python",
   "name": "python3"
  },
  "language_info": {
   "codemirror_mode": {
    "name": "ipython",
    "version": 3
   },
   "file_extension": ".py",
   "mimetype": "text/x-python",
   "name": "python",
   "nbconvert_exporter": "python",
   "pygments_lexer": "ipython3",
   "version": "3.7.4"
  }
 },
 "nbformat": 4,
 "nbformat_minor": 2
}
